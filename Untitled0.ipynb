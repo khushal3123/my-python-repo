{
  "nbformat": 4,
  "nbformat_minor": 0,
  "metadata": {
    "colab": {
      "provenance": [],
      "authorship_tag": "ABX9TyNHDXAjC31L3D5fpPwa4tHk",
      "include_colab_link": true
    },
    "kernelspec": {
      "name": "python3",
      "display_name": "Python 3"
    },
    "language_info": {
      "name": "python"
    }
  },
  "cells": [
    {
      "cell_type": "markdown",
      "metadata": {
        "id": "view-in-github",
        "colab_type": "text"
      },
      "source": [
        "<a href=\"https://colab.research.google.com/github/khushal3123/my-python-repo/blob/main/Untitled0.ipynb\" target=\"_parent\"><img src=\"https://colab.research.google.com/assets/colab-badge.svg\" alt=\"Open In Colab\"/></a>"
      ]
    },
    {
      "cell_type": "code",
      "execution_count": 1,
      "metadata": {
        "colab": {
          "base_uri": "https://localhost:8080/"
        },
        "id": "Cn7slmxwUrui",
        "outputId": "f008e691-187b-414b-a23b-134f8edcc639"
      },
      "outputs": [
        {
          "output_type": "stream",
          "name": "stdout",
          "text": [
            "1D Array:\n",
            " [1 2 3 4 5]\n",
            "2D Array:\n",
            " [[1 2 3]\n",
            " [4 5 6]]\n",
            "Zeros Array:\n",
            " [[0. 0. 0.]\n",
            " [0. 0. 0.]\n",
            " [0. 0. 0.]]\n",
            "Zeros Array:\n",
            " [[0. 0.]\n",
            " [0. 0.]]\n"
          ]
        }
      ],
      "source": [
        "import numpy as np\n",
        "array_1d = np.array([1, 2, 3, 4, 5])\n",
        "print(\"1D Array:\\n\",array_1d)\n",
        "array_2D= np.array([[1,2,3],[4,5,6]])\n",
        "print(\"2D Array:\\n\",array_2D)\n",
        "zeros_array=np.zeros((3,3))\n",
        "print(\"Zeros Array:\\n\",zeros_array)\n",
        "ones_array=np.zeros((2,2))\n",
        "print(\"Zeros Array:\\n\",ones_array)\n"
      ]
    },
    {
      "cell_type": "code",
      "source": [
        "import numpy as np\n",
        "a=np.array([1,2,3])\n",
        "b=np.array([4,5,6])\n",
        "sum_array=np.add(a,b)\n",
        "print(\"Sum:\",sum_array)\n",
        "diff_array=np.subtract(a,b)\n",
        "print(\"Difference:\",diff_array)\n",
        "product_array=np.multiply(a,b)\n",
        "print(\"Product:\",product_array)\n",
        "quotient_array=np.divide(a,b)\n",
        "print(\"Quoteint:\",quotient_array)\n",
        "\n"
      ],
      "metadata": {
        "colab": {
          "base_uri": "https://localhost:8080/"
        },
        "id": "JdBenGmrZq_T",
        "outputId": "0fa0a75f-fd8d-4e22-f28b-5805fa9b2cbe"
      },
      "execution_count": null,
      "outputs": [
        {
          "output_type": "stream",
          "name": "stdout",
          "text": [
            "Sum: [5 7 9]\n",
            "Difference: [-3 -3 -3]\n",
            "Product: [ 4 10 18]\n",
            "Quoteint: [0.25 0.4  0.5 ]\n"
          ]
        }
      ]
    },
    {
      "cell_type": "code",
      "source": [
        "import numpy as np\n",
        "matrix_a=np.array([[1,2],[3,4]])\n",
        "matrix_b=np.array([[5,6],[7,8]])\n",
        "matrix_product=np.dot(matrix_a,matrix_b)\n",
        "print(\"Matrix Product:\\n\",matrix_product)"
      ],
      "metadata": {
        "colab": {
          "base_uri": "https://localhost:8080/"
        },
        "id": "r9GXQcV6af0J",
        "outputId": "a8469234-3131-4c6b-f3ec-5d48285123ff"
      },
      "execution_count": null,
      "outputs": [
        {
          "output_type": "stream",
          "name": "stdout",
          "text": [
            "Matrix Product:\n",
            " [[19 22]\n",
            " [43 50]]\n"
          ]
        }
      ]
    },
    {
      "cell_type": "code",
      "source": [
        "import numpy as np\n",
        "array=np.array([1,2,3])\n",
        "scalar=2\n",
        "broadcasted_array=array*scalar\n",
        "print(\"Broadcasted Array:\",broadcasted_array)\n"
      ],
      "metadata": {
        "colab": {
          "base_uri": "https://localhost:8080/"
        },
        "id": "r0SquhqEcgj4",
        "outputId": "27fcead2-5150-4430-8c4f-117a8b4eec15"
      },
      "execution_count": null,
      "outputs": [
        {
          "output_type": "stream",
          "name": "stdout",
          "text": [
            "Broadcasted Array: [2 4 6]\n"
          ]
        }
      ]
    },
    {
      "cell_type": "code",
      "source": [
        "import numpy as np\n",
        "data=np.array([1,2,3,4,5])\n",
        "mean_value=np.mean(data)\n",
        "print(\"Mean:\",mean_value)\n",
        "std_value=np.std(data)\n",
        "print(\"Standard Deviation:\",std_value)\n",
        "sum_value=np.sum(data)\n",
        "print(\"Sum:\",sum_value)"
      ],
      "metadata": {
        "colab": {
          "base_uri": "https://localhost:8080/"
        },
        "id": "6G9KcLLDd0wY",
        "outputId": "635b240b-4ed8-402d-a9d7-c0bc33cc4ef0"
      },
      "execution_count": null,
      "outputs": [
        {
          "output_type": "stream",
          "name": "stdout",
          "text": [
            "Mean: 3.0\n",
            "Standard Deviation: 1.4142135623730951\n",
            "Sum: 15\n"
          ]
        }
      ]
    },
    {
      "cell_type": "code",
      "source": [
        "import numpy as np\n",
        "array = np.array([1, 2, 3, 4, 5, 6])\n",
        "reshaped_array = array.reshape((2, 3))\n",
        "print(\"Reshaped Array:\\n\", reshaped_array)\n",
        "\n",
        "reshaped_array = array.reshape((3, 2))\n",
        "print(\"Reshaped Array:\\n\", reshaped_array)"
      ],
      "metadata": {
        "colab": {
          "base_uri": "https://localhost:8080/"
        },
        "id": "rZsAY8MDfTc1",
        "outputId": "1491840b-088a-40f0-91b1-0c24d15074f8"
      },
      "execution_count": null,
      "outputs": [
        {
          "output_type": "stream",
          "name": "stdout",
          "text": [
            "Reshaped Array:\n",
            " [[1 2 3]\n",
            " [4 5 6]]\n",
            "Reshaped Array:\n",
            " [[1 2]\n",
            " [3 4]\n",
            " [5 6]]\n"
          ]
        }
      ]
    },
    {
      "cell_type": "code",
      "source": [
        "import numpy as np\n",
        "\n",
        "array_a = np.array([1, 2, 3])\n",
        "array_b = np.array([4, 5, 6])\n",
        "\n",
        "add_result = array_a + array_b\n",
        "print(\"Element-wise Addition:\", add_result)\n",
        "\n",
        "multiply_result = array_a * array_b\n",
        "print(\"Element-wise Multiplication:\", multiply_result)\n",
        "multiply_result = array_a * array_b\n",
        "print(\"Element-wise Multiplication:\", multiply_result)"
      ],
      "metadata": {
        "colab": {
          "base_uri": "https://localhost:8080/"
        },
        "id": "0hZZbj2lfyfI",
        "outputId": "ca20438a-68b2-4b8e-b3fc-02258b97f775"
      },
      "execution_count": null,
      "outputs": [
        {
          "output_type": "stream",
          "name": "stdout",
          "text": [
            "Element-wise Addition: [5 7 9]\n",
            "Element-wise Multiplication: [ 4 10 18]\n",
            "Element-wise Multiplication: [ 4 10 18]\n"
          ]
        }
      ]
    },
    {
      "cell_type": "code",
      "source": [
        "import numpy as np\n",
        "array_2d = np.array([[1, 2, 3], [4, 5, 6], [7, 8, 9]])\n",
        "element = array_2d[1, 1]\n",
        "print(\"Element at [1, 1]:\", element)\n",
        "\n",
        "row = array_2d[1, :]\n",
        "print(\"Row 1:\", row)\n",
        "\n",
        "column = array_2d[:, 1]\n",
        "print(\"Column 1:\", column)"
      ],
      "metadata": {
        "colab": {
          "base_uri": "https://localhost:8080/"
        },
        "id": "heZS0kjkgUaH",
        "outputId": "4d4aa960-0159-4ce6-fa94-2adc05b12a18"
      },
      "execution_count": null,
      "outputs": [
        {
          "output_type": "stream",
          "name": "stdout",
          "text": [
            "Element at [1, 1]: 5\n",
            "Row 1: [4 5 6]\n",
            "Column 1: [2 5 8]\n"
          ]
        }
      ]
    },
    {
      "cell_type": "code",
      "source": [
        "import numpy as np\n",
        "random_array = np.random.rand(3, 3)\n",
        "print(\"Random Array:\\n\", random_array)\n",
        "random_int_array = np.random.randint(0, 10, (3, 3))\n",
        "print(\"Random Integer Array:\\n\", random_int_array)"
      ],
      "metadata": {
        "colab": {
          "base_uri": "https://localhost:8080/"
        },
        "id": "_eluoB-pgz0H",
        "outputId": "789bbd3f-eebf-43d5-ed48-b1880ad0ec42"
      },
      "execution_count": null,
      "outputs": [
        {
          "output_type": "stream",
          "name": "stdout",
          "text": [
            "Random Array:\n",
            " [[0.68043266 0.26425541 0.13177792]\n",
            " [0.21485688 0.28527857 0.55175849]\n",
            " [0.23453986 0.37652315 0.21725796]]\n",
            "Random Integer Array:\n",
            " [[4 7 1]\n",
            " [6 6 6]\n",
            " [4 1 4]]\n"
          ]
        }
      ]
    },
    {
      "cell_type": "code",
      "source": [
        "import numpy as np\n",
        "array_a = np.array([1, 2, 3])\n",
        "array_b = np.array([4, 5, 6])\n",
        "v_stack = np.vstack((array_a, array_b))\n",
        "print(\"Vertical Stack:\\n\", v_stack)\n",
        "h_stack = np.hstack((array_a, array_b))\n",
        "print(\"Horizontal Stack:\", h_stack)"
      ],
      "metadata": {
        "colab": {
          "base_uri": "https://localhost:8080/"
        },
        "id": "q7EdAuI1hJbQ",
        "outputId": "c62c8a59-62e3-4803-a932-cc04f8868bf1"
      },
      "execution_count": null,
      "outputs": [
        {
          "output_type": "stream",
          "name": "stdout",
          "text": [
            "Vertical Stack:\n",
            " [[1 2 3]\n",
            " [4 5 6]]\n",
            "Horizontal Stack: [1 2 3 4 5 6]\n"
          ]
        }
      ]
    },
    {
      "cell_type": "code",
      "source": [
        "import numpy as np\n",
        "\n",
        "array = np.linspace(0, 1, 10)\n",
        "print(array)\n"
      ],
      "metadata": {
        "colab": {
          "base_uri": "https://localhost:8080/"
        },
        "id": "jjOK4wYmhZbR",
        "outputId": "0fb9300e-10e4-4e0d-f45f-82d2dceba7e3"
      },
      "execution_count": null,
      "outputs": [
        {
          "output_type": "stream",
          "name": "stdout",
          "text": [
            "[0.         0.11111111 0.22222222 0.33333333 0.44444444 0.55555556\n",
            " 0.66666667 0.77777778 0.88888889 1.        ]\n"
          ]
        }
      ]
    },
    {
      "cell_type": "code",
      "source": [
        "import numpy as np\n",
        "\n",
        "# Creating a 1D array of 20 random integers between 1 and 100\n",
        "random_array = np.random.randint(1, 101, 20)\n",
        "print(random_array)\n"
      ],
      "metadata": {
        "colab": {
          "base_uri": "https://localhost:8080/"
        },
        "id": "uSK2mE9PjJsq",
        "outputId": "6053da82-027a-4513-e323-9b1455ebeb32"
      },
      "execution_count": null,
      "outputs": [
        {
          "output_type": "stream",
          "name": "stdout",
          "text": [
            "[35 20  1 94 75 55 61 65 87 44 53 31 97 52  6  8  2  9 92 69]\n"
          ]
        }
      ]
    },
    {
      "cell_type": "code",
      "source": [
        "import numpy as np\n",
        "\n",
        "# Creating a 2D array with the shape (4, 4) filled with the value 7\n",
        "array_2d = np.full((4, 4), 7)\n",
        "print(array_2d)\n"
      ],
      "metadata": {
        "colab": {
          "base_uri": "https://localhost:8080/"
        },
        "id": "NlWYHsFvjUJo",
        "outputId": "e2667ee4-d2b0-4c14-cc75-042dfed0a928"
      },
      "execution_count": null,
      "outputs": [
        {
          "output_type": "stream",
          "name": "stdout",
          "text": [
            "[[7 7 7 7]\n",
            " [7 7 7 7]\n",
            " [7 7 7 7]\n",
            " [7 7 7 7]]\n"
          ]
        }
      ]
    },
    {
      "cell_type": "code",
      "source": [
        "import numpy as np\n",
        "\n",
        "# Creating a 1D array of 10 elements with the value 3.14\n",
        "array_1d = np.full(10, 3.14)\n",
        "print(array_1d)\n"
      ],
      "metadata": {
        "colab": {
          "base_uri": "https://localhost:8080/"
        },
        "id": "U3WLSZCnj_rE",
        "outputId": "d932b520-8dba-4be6-9a94-c95fc181407e"
      },
      "execution_count": null,
      "outputs": [
        {
          "output_type": "stream",
          "name": "stdout",
          "text": [
            "[3.14 3.14 3.14 3.14 3.14 3.14 3.14 3.14 3.14 3.14]\n"
          ]
        }
      ]
    },
    {
      "cell_type": "code",
      "source": [
        "import numpy as np\n",
        "\n",
        "# Creating a 2D array with the shape (3, 3) with values ranging from 1 to 9\n",
        "array_2d = np.arange(1, 10).reshape(3, 3)\n",
        "print(array_2d)\n"
      ],
      "metadata": {
        "colab": {
          "base_uri": "https://localhost:8080/"
        },
        "id": "yy4Sy6IPkTSC",
        "outputId": "c519bba2-03a7-4f58-bb42-9ab9486306cb"
      },
      "execution_count": null,
      "outputs": [
        {
          "output_type": "stream",
          "name": "stdout",
          "text": [
            "[[1 2 3]\n",
            " [4 5 6]\n",
            " [7 8 9]]\n"
          ]
        }
      ]
    },
    {
      "cell_type": "code",
      "source": [
        "#Create two arrays: a = [1, 3, 5, 7, 9] and b = [2, 4, 6, 8, 10]. Perform element-wise\n",
        "#subtraction.\n",
        "import numpy as np\n",
        "a = np.array([1, 3, 5, 7, 9])\n",
        "b = np.array([2, 4, 6, 8, 10])\n",
        "\n",
        "result = a - b\n",
        "\n",
        "print(\"Array a:\", a)\n",
        "print(\"Array b:\", b)\n",
        "print(\"Element-wise subtraction (a - b):\", result)\n"
      ],
      "metadata": {
        "colab": {
          "base_uri": "https://localhost:8080/"
        },
        "id": "5PnrKIoLEHet",
        "outputId": "4c026d36-a77f-41df-f181-62bd91dab625"
      },
      "execution_count": null,
      "outputs": [
        {
          "output_type": "stream",
          "name": "stdout",
          "text": [
            "Array a: [1 3 5 7 9]\n",
            "Array b: [ 2  4  6  8 10]\n",
            "Element-wise subtraction (a - b): [-1 -1 -1 -1 -1]\n"
          ]
        }
      ]
    },
    {
      "cell_type": "code",
      "source": [
        "#Multiply array a by 3: a = [2, 4, 6, 8]\n",
        "import numpy as np\n",
        "\n",
        "a = np.array([2, 4, 6, 8])\n",
        "\n",
        "result = a * 3\n",
        "\n",
        "print(\"Array a:\", a)\n",
        "print(\"Array a multiplied by 3:\", result)\n"
      ],
      "metadata": {
        "colab": {
          "base_uri": "https://localhost:8080/"
        },
        "id": "8sEXfHsKFUm2",
        "outputId": "97f78cb0-f3d0-4dd6-966a-4f6945d85b11"
      },
      "execution_count": null,
      "outputs": [
        {
          "output_type": "stream",
          "name": "stdout",
          "text": [
            "Array a: [2 4 6 8]\n",
            "Array a multiplied by 3: [ 6 12 18 24]\n"
          ]
        }
      ]
    },
    {
      "cell_type": "code",
      "source": [
        "#Divide array a by 2: a = [10, 20, 30, 40].\n",
        "import numpy as np\n",
        "\n",
        "a = np.array([10, 20, 30, 40])\n",
        "\n",
        "result = a / 2\n",
        "\n",
        "print(\"Array a:\", a)\n",
        "print(\"Array a divided by 2:\", result)\n"
      ],
      "metadata": {
        "colab": {
          "base_uri": "https://localhost:8080/"
        },
        "id": "cNBsaI0fFoPm",
        "outputId": "1f9249aa-b6e8-49ca-af24-823442a7ec7d"
      },
      "execution_count": null,
      "outputs": [
        {
          "output_type": "stream",
          "name": "stdout",
          "text": [
            "Array a: [10 20 30 40]\n",
            "Array a divided by 2: [ 5. 10. 15. 20.]\n"
          ]
        }
      ]
    },
    {
      "cell_type": "code",
      "source": [
        "#Find the element-wise modulus of two arrays: a = [5, 10, 15], b = [2, 3, 4].\n",
        "import numpy as np\n",
        "\n",
        "a = np.array([5, 10, 15])\n",
        "b = np.array([2, 3, 4])\n",
        "\n",
        "result = a % b\n",
        "\n",
        "print(\"Array a:\", a)\n",
        "print(\"Array b:\", b)\n",
        "print(\"Element-wise modulus (a % b):\", result)\n"
      ],
      "metadata": {
        "colab": {
          "base_uri": "https://localhost:8080/"
        },
        "id": "1_71MERlGJZO",
        "outputId": "ab127de2-8c94-467d-85f6-77ae8e853372"
      },
      "execution_count": null,
      "outputs": [
        {
          "output_type": "stream",
          "name": "stdout",
          "text": [
            "Array a: [ 5 10 15]\n",
            "Array b: [2 3 4]\n",
            "Element-wise modulus (a % b): [1 1 3]\n"
          ]
        }
      ]
    },
    {
      "cell_type": "code",
      "source": [
        "#Create two arrays: a = [1, 2, 3], b = [4, 5, 6]. Compute the dot product.\n",
        "import numpy as np\n",
        "\n",
        "a = np.array([1, 2, 3])\n",
        "b = np.array([4, 5, 6])\n",
        "\n",
        "dot_product = np.dot(a, b)\n",
        "\n",
        "print(\"Array a:\", a)\n",
        "print(\"Array b:\", b)\n",
        "print(\"Dot product of a and b:\", dot_product)\n"
      ],
      "metadata": {
        "colab": {
          "base_uri": "https://localhost:8080/"
        },
        "id": "HLY9p2AWGrWF",
        "outputId": "78a9edf4-4b88-45ea-e98c-ec22c7bc6ec0"
      },
      "execution_count": null,
      "outputs": [
        {
          "output_type": "stream",
          "name": "stdout",
          "text": [
            "Array a: [1 2 3]\n",
            "Array b: [4 5 6]\n",
            "Dot product of a and b: 32\n"
          ]
        }
      ]
    },
    {
      "cell_type": "code",
      "source": [
        "#Create two matrices: a = [[2, 3], [4, 5]] and b = [[1, 0], [0, 1]]. Perform matrix\n",
        "#multiplication\n",
        "import numpy as np\n",
        "\n",
        "a = np.array([[2, 3], [4, 5]])\n",
        "b = np.array([[1, 0], [0, 1]])\n",
        "\n",
        "result = np.dot(a, b)\n",
        "\n",
        "print(result)\n"
      ],
      "metadata": {
        "colab": {
          "base_uri": "https://localhost:8080/"
        },
        "id": "7M5lG7HwW5p8",
        "outputId": "00a0b2e0-7793-43aa-d783-a38e4287304d"
      },
      "execution_count": 3,
      "outputs": [
        {
          "output_type": "stream",
          "name": "stdout",
          "text": [
            "[[2 3]\n",
            " [4 5]]\n"
          ]
        }
      ]
    },
    {
      "cell_type": "code",
      "source": [
        "#Multiply a 3x3 matrix with a 3x1 vector.\n",
        "import numpy as np\n",
        "matrix = np.array([\n",
        "    [1, 2, 3],\n",
        "    [4, 5, 6],\n",
        "    [7, 8, 9]\n",
        "])\n",
        "\n",
        "vector = np.array([\n",
        "    [1],\n",
        "    [2],\n",
        "    [3]\n",
        "])\n",
        "result = np.dot(matrix, vector)\n",
        "\n",
        "print(result)\n"
      ],
      "metadata": {
        "colab": {
          "base_uri": "https://localhost:8080/"
        },
        "id": "2B4B-k6TYqxr",
        "outputId": "4258bbaf-21ef-4535-f4c1-1c6ab8d8987c"
      },
      "execution_count": 5,
      "outputs": [
        {
          "output_type": "stream",
          "name": "stdout",
          "text": [
            "[[14]\n",
            " [32]\n",
            " [50]]\n"
          ]
        }
      ]
    },
    {
      "cell_type": "code",
      "source": [
        "#Create a 4x4 identity matrix and multiply it by a 4x4 matrix filled with random\n",
        "#integers.\n",
        "import numpy as np\n",
        "identity_matrix = np.eye(4)\n",
        "\n",
        "random_matrix = np.random.randint(0, 10, (4, 4))\n",
        "\n",
        "result = np.dot(identity_matrix, random_matrix)\n",
        "\n",
        "print(\"Identity Matrix:\\n\", identity_matrix)\n",
        "print(\"Random Matrix:\\n\", random_matrix)\n",
        "print(\"Result of Multiplication:\\n\", result)\n"
      ],
      "metadata": {
        "colab": {
          "base_uri": "https://localhost:8080/"
        },
        "id": "ijc62VlhY920",
        "outputId": "4b46e3db-f2b5-4e6d-e8ed-2fc5c9488159"
      },
      "execution_count": 9,
      "outputs": [
        {
          "output_type": "stream",
          "name": "stdout",
          "text": [
            "Identity Matrix:\n",
            " [[1. 0. 0. 0.]\n",
            " [0. 1. 0. 0.]\n",
            " [0. 0. 1. 0.]\n",
            " [0. 0. 0. 1.]]\n",
            "Random Matrix:\n",
            " [[5 0 2 2]\n",
            " [5 2 5 8]\n",
            " [7 1 9 7]\n",
            " [8 7 2 6]]\n",
            "Result of Multiplication:\n",
            " [[5. 0. 2. 2.]\n",
            " [5. 2. 5. 8.]\n",
            " [7. 1. 9. 7.]\n",
            " [8. 7. 2. 6.]]\n"
          ]
        }
      ]
    },
    {
      "cell_type": "code",
      "source": [
        "#Perform matrix multiplication on two 3x3 matrices: a = [[1, 2, 3], [4, 5, 6], [7, 8, 9]]\n",
        "#and b = [[9, 8, 7], [6, 5, 4], [3, 2, 1]].\n",
        "import numpy as np\n",
        "a = np.array([[1, 2, 3], [4, 5, 6], [7, 8, 9]])\n",
        "b = np.array([[9, 8, 7], [6, 5, 4], [3, 2, 1]])\n",
        "\n",
        "result = np.dot(a, b)\n",
        "\n",
        "print(\"Matrix A:\\n\", a)\n",
        "print(\"Matrix B:\\n\", b)\n",
        "print(\"Result of Multiplication:\\n\", result)\n"
      ],
      "metadata": {
        "colab": {
          "base_uri": "https://localhost:8080/"
        },
        "id": "lI47jOGKZrSC",
        "outputId": "a981f8cf-aff8-4b3a-ce2a-26a4b9efe6c3"
      },
      "execution_count": 11,
      "outputs": [
        {
          "output_type": "stream",
          "name": "stdout",
          "text": [
            "Matrix A:\n",
            " [[1 2 3]\n",
            " [4 5 6]\n",
            " [7 8 9]]\n",
            "Matrix B:\n",
            " [[9 8 7]\n",
            " [6 5 4]\n",
            " [3 2 1]]\n",
            "Result of Multiplication:\n",
            " [[ 30  24  18]\n",
            " [ 84  69  54]\n",
            " [138 114  90]]\n"
          ]
        }
      ]
    },
    {
      "cell_type": "code",
      "source": [
        "#Create a 2x3 matrix and a 3x2 matrix. Perform matrix multiplication.\n",
        "import numpy as np\n",
        "\n",
        "matrix_2x3 = np.array([\n",
        "    [1, 2, 3],\n",
        "    [4, 5, 6]\n",
        "])\n",
        "\n",
        "matrix_3x2 = np.array([\n",
        "    [7, 8],\n",
        "    [9, 10],\n",
        "    [11, 12]\n",
        "])\n",
        "result = np.dot(matrix_2x3, matrix_3x2)\n",
        "print(\"2x3 Matrix:\\n\", matrix_2x3)\n",
        "print(\"3x2 Matrix:\\n\", matrix_3x2)\n",
        "print(\"Result of Multiplication:\\n\", result)\n"
      ],
      "metadata": {
        "colab": {
          "base_uri": "https://localhost:8080/"
        },
        "id": "xZkhnIg2aFbq",
        "outputId": "9757ae14-ddb6-462b-f215-e09de7ff9128"
      },
      "execution_count": 13,
      "outputs": [
        {
          "output_type": "stream",
          "name": "stdout",
          "text": [
            "2x3 Matrix:\n",
            " [[1 2 3]\n",
            " [4 5 6]]\n",
            "3x2 Matrix:\n",
            " [[ 7  8]\n",
            " [ 9 10]\n",
            " [11 12]]\n",
            "Result of Multiplication:\n",
            " [[ 58  64]\n",
            " [139 154]]\n"
          ]
        }
      ]
    },
    {
      "cell_type": "code",
      "source": [
        "#Create a 1D array: array = [10, 20, 30]. Subtract a scalar value, 5, using broadcasting.\n",
        "import numpy as np\n",
        "\n",
        "array = np.array([10, 20, 30])\n",
        "\n",
        "result = array - 5\n",
        "\n",
        "print(\"Original Array:\\n\", array)\n",
        "print(\"Result after Subtracting 5:\\n\", result)\n"
      ],
      "metadata": {
        "colab": {
          "base_uri": "https://localhost:8080/"
        },
        "id": "TvxnosJeaXYq",
        "outputId": "e275180e-920d-49c0-c971-50962aa3e78f"
      },
      "execution_count": 15,
      "outputs": [
        {
          "output_type": "stream",
          "name": "stdout",
          "text": [
            "Original Array:\n",
            " [10 20 30]\n",
            "Result after Subtracting 5:\n",
            " [ 5 15 25]\n"
          ]
        }
      ]
    },
    {
      "cell_type": "code",
      "source": [
        "#Create a 3x3 array and a 3x1 array. Add them using broadcasting.\n",
        "import numpy as np\n",
        "\n",
        "array_3x3 = np.array([\n",
        "    [1, 2, 3],\n",
        "    [4, 5, 6],\n",
        "    [7, 8, 9]\n",
        "])\n",
        "\n",
        "array_3x1 = np.array([\n",
        "    [10],\n",
        "    [20],\n",
        "    [30]\n",
        "])\n",
        "\n",
        "result = array_3x3 + array_3x1\n",
        "\n",
        "print(\"3x3 Array:\\n\", array_3x3)\n",
        "print(\"3x1 Array:\\n\", array_3x1)\n",
        "print(\"Result of Addition:\\n\", result)\n"
      ],
      "metadata": {
        "colab": {
          "base_uri": "https://localhost:8080/"
        },
        "id": "7Lv_AaUCagnw",
        "outputId": "d6cc5d36-08cf-4ef5-ef9b-2f7c7ddeee52"
      },
      "execution_count": 17,
      "outputs": [
        {
          "output_type": "stream",
          "name": "stdout",
          "text": [
            "3x3 Array:\n",
            " [[1 2 3]\n",
            " [4 5 6]\n",
            " [7 8 9]]\n",
            "3x1 Array:\n",
            " [[10]\n",
            " [20]\n",
            " [30]]\n",
            "Result of Addition:\n",
            " [[11 12 13]\n",
            " [24 25 26]\n",
            " [37 38 39]]\n"
          ]
        }
      ]
    },
    {
      "cell_type": "code",
      "source": [
        "#Divide a 4x4 array by a scalar value, 2, using broadcasting.\n",
        "import numpy as np\n",
        "\n",
        "array_4x4 = np.array([\n",
        "    [2, 4, 6, 8],\n",
        "    [10, 12, 14, 16],\n",
        "    [18, 20, 22, 24],\n",
        "    [26, 28, 30, 32]\n",
        "])\n",
        "\n",
        "result = array_4x4 / 2\n",
        "\n",
        "print(\"Original 4x4 Array:\\n\", array_4x4)\n",
        "print(\"Result after Dividing by 2:\\n\", result)\n"
      ],
      "metadata": {
        "colab": {
          "base_uri": "https://localhost:8080/"
        },
        "id": "vMQH6fLQawf8",
        "outputId": "b1c328b3-7d23-476c-e04d-c42249e4140b"
      },
      "execution_count": 18,
      "outputs": [
        {
          "output_type": "stream",
          "name": "stdout",
          "text": [
            "Original 4x4 Array:\n",
            " [[ 2  4  6  8]\n",
            " [10 12 14 16]\n",
            " [18 20 22 24]\n",
            " [26 28 30 32]]\n",
            "Result after Dividing by 2:\n",
            " [[ 1.  2.  3.  4.]\n",
            " [ 5.  6.  7.  8.]\n",
            " [ 9. 10. 11. 12.]\n",
            " [13. 14. 15. 16.]]\n"
          ]
        }
      ]
    },
    {
      "cell_type": "code",
      "source": [
        "#Create a 3x3 array and add 3 to each element using broadcasting.\n",
        "import numpy as np\n",
        "\n",
        "array_3x3 = np.array([\n",
        "    [1, 2, 3],\n",
        "    [4, 5, 6],\n",
        "    [7, 8, 9]\n",
        "])\n",
        "\n",
        "result = array_3x3 + 3\n",
        "\n",
        "print(\"Original 3x3 Array:\\n\", array_3x3)\n",
        "print(\"Result after Adding 3:\\n\", result)\n"
      ],
      "metadata": {
        "colab": {
          "base_uri": "https://localhost:8080/"
        },
        "id": "gdmA_zbIa_eM",
        "outputId": "e4bd803c-0ded-4b7b-b642-91bc65f4bc2a"
      },
      "execution_count": 20,
      "outputs": [
        {
          "output_type": "stream",
          "name": "stdout",
          "text": [
            "Original 3x3 Array:\n",
            " [[1 2 3]\n",
            " [4 5 6]\n",
            " [7 8 9]]\n",
            "Result after Adding 3:\n",
            " [[ 4  5  6]\n",
            " [ 7  8  9]\n",
            " [10 11 12]]\n"
          ]
        }
      ]
    },
    {
      "cell_type": "code",
      "source": [
        "#Multiply a 1D array of shape (5,) by a 2D array of shape (5, 5) using broadcasting.\n",
        "import numpy as np\n",
        "\n",
        "array_1d = np.array([1, 2, 3, 4, 5])\n",
        "\n",
        "array_2d = np.array([\n",
        "    [1, 2, 3, 4, 5],\n",
        "    [5, 4, 3, 2, 1],\n",
        "    [2, 3, 4, 5, 6],\n",
        "    [6, 5, 4, 3, 2],\n",
        "    [3, 4, 5, 6, 7]\n",
        "])\n",
        "result = array_2d * array_1d[:, np.newaxis]\n",
        "\n",
        "print(\"1D Array:\\n\", array_1d)\n",
        "print(\"2D Array:\\n\", array_2d)\n",
        "print(\"Result of Multiplication:\\n\", result)\n"
      ],
      "metadata": {
        "colab": {
          "base_uri": "https://localhost:8080/"
        },
        "id": "ICchDDpvbaSb",
        "outputId": "195dcb4b-b424-4170-d306-1a100d745ff4"
      },
      "execution_count": 21,
      "outputs": [
        {
          "output_type": "stream",
          "name": "stdout",
          "text": [
            "1D Array:\n",
            " [1 2 3 4 5]\n",
            "2D Array:\n",
            " [[1 2 3 4 5]\n",
            " [5 4 3 2 1]\n",
            " [2 3 4 5 6]\n",
            " [6 5 4 3 2]\n",
            " [3 4 5 6 7]]\n",
            "Result of Multiplication:\n",
            " [[ 1  2  3  4  5]\n",
            " [10  8  6  4  2]\n",
            " [ 6  9 12 15 18]\n",
            " [24 20 16 12  8]\n",
            " [15 20 25 30 35]]\n"
          ]
        }
      ]
    },
    {
      "cell_type": "code",
      "source": [
        "#Calculate the median of the array: data = [1, 2, 3, 4, 5, 6, 7, 8, 9, 10].\n",
        "import numpy as np\n",
        "\n",
        "data = np.array([1, 2, 3, 4, 5, 6, 7, 8, 9, 10])\n",
        "\n",
        "median = np.median(data)\n",
        "\n",
        "print(\"Median:\", median)\n"
      ],
      "metadata": {
        "colab": {
          "base_uri": "https://localhost:8080/"
        },
        "id": "MnpRf05mbgQm",
        "outputId": "bf39028c-4058-4b40-8d2b-408907db632d"
      },
      "execution_count": 23,
      "outputs": [
        {
          "output_type": "stream",
          "name": "stdout",
          "text": [
            "Median: 5.5\n"
          ]
        }
      ]
    },
    {
      "cell_type": "code",
      "source": [
        "#Calculate the mode of the array: data = [1, 2, 2, 3, 4, 4, 4, 5, 6].\n",
        "from scipy import stats\n",
        "import numpy as np\n",
        "\n",
        "data = np.array([1, 2, 2, 3, 4, 4, 4, 5, 6])\n",
        "\n",
        "mode_result = stats.mode(data)\n",
        "\n",
        "print(\"Mode:\", mode_result.mode)\n",
        "print(\"Count:\", mode_result.count)\n"
      ],
      "metadata": {
        "colab": {
          "base_uri": "https://localhost:8080/"
        },
        "id": "54AqI3ahb-4F",
        "outputId": "493489c0-6093-4fc6-e462-23acd94bcf79"
      },
      "execution_count": 27,
      "outputs": [
        {
          "output_type": "stream",
          "name": "stdout",
          "text": [
            "Mode: 4\n",
            "Count: 3\n"
          ]
        }
      ]
    },
    {
      "cell_type": "code",
      "source": [
        "#Calculate the range of the array: data = [10, 20, 30, 40, 50].\n",
        "import numpy as np\n",
        "\n",
        "data = np.array([10, 20, 30, 40, 50])\n",
        "\n",
        "range_value = np.max(data) - np.min(data)\n",
        "\n",
        "print(\"Range:\", range_value)\n"
      ],
      "metadata": {
        "colab": {
          "base_uri": "https://localhost:8080/"
        },
        "id": "AGFDcYLJckXt",
        "outputId": "89f8c40c-e9f9-4676-f4d6-19fd08e3118f"
      },
      "execution_count": 29,
      "outputs": [
        {
          "output_type": "stream",
          "name": "stdout",
          "text": [
            "Range: 40\n"
          ]
        }
      ]
    },
    {
      "cell_type": "code",
      "source": [
        "#Calculate the 25th percentile of the array: data = [1, 2, 3, 4, 5, 6, 7, 8, 9, 10].\n",
        "import numpy as np\n",
        "\n",
        "data = np.array([1, 2, 3, 4, 5, 6, 7, 8, 9, 10])\n",
        "\n",
        "percentile_25 = np.percentile(data, 25)\n",
        "\n",
        "print(\"25th Percentile:\", percentile_25)\n"
      ],
      "metadata": {
        "colab": {
          "base_uri": "https://localhost:8080/"
        },
        "id": "C7Nql2Bscyn3",
        "outputId": "1fd45f78-1af1-44ac-e0d9-db1a62a14ce8"
      },
      "execution_count": 31,
      "outputs": [
        {
          "output_type": "stream",
          "name": "stdout",
          "text": [
            "25th Percentile: 3.25\n"
          ]
        }
      ]
    },
    {
      "cell_type": "code",
      "source": [
        "#Calculate the correlation coefficient between two arrays: a = [1, 2, 3, 4, 5] and b = [2,\n",
        "#4, 6, 8, 10]\n",
        "import numpy as np\n",
        "\n",
        "a = np.array([1, 2, 3, 4, 5])\n",
        "b = np.array([2, 4, 6, 8, 10])\n",
        "\n",
        "correlation_matrix = np.corrcoef(a, b)\n",
        "correlation_coefficient = correlation_matrix[0, 1]\n",
        "\n",
        "print(\"Correlation Coefficient:\", correlation_coefficient)\n"
      ],
      "metadata": {
        "colab": {
          "base_uri": "https://localhost:8080/"
        },
        "id": "lEXaKESLdBSr",
        "outputId": "b1a72558-fc5d-4aee-ecc7-ead9d75d66a5"
      },
      "execution_count": 33,
      "outputs": [
        {
          "output_type": "stream",
          "name": "stdout",
          "text": [
            "Correlation Coefficient: 0.9999999999999999\n"
          ]
        }
      ]
    },
    {
      "cell_type": "code",
      "source": [
        "#Reshape a 1D array of 12 elements to a 3x4 array.\n",
        "import numpy as np\n",
        "\n",
        "array_1d = np.arange(12)\n",
        "\n",
        "array_3x4 = array_1d.reshape(3, 4)\n",
        "print(\"Original 1D Array:\\n\", array_1d)\n",
        "print(\"Reshaped 3x4 Array:\\n\", array_3x4)\n"
      ],
      "metadata": {
        "colab": {
          "base_uri": "https://localhost:8080/"
        },
        "id": "-hO7TIPSdPYv",
        "outputId": "9d66bc0c-bdac-4ce8-d693-0a86f3847c95"
      },
      "execution_count": 35,
      "outputs": [
        {
          "output_type": "stream",
          "name": "stdout",
          "text": [
            "Original 1D Array:\n",
            " [ 0  1  2  3  4  5  6  7  8  9 10 11]\n",
            "Reshaped 3x4 Array:\n",
            " [[ 0  1  2  3]\n",
            " [ 4  5  6  7]\n",
            " [ 8  9 10 11]]\n"
          ]
        }
      ]
    },
    {
      "cell_type": "code",
      "source": [
        "#Reshape a 2D array of shape (6, 2) to (3, 4).\n",
        "import numpy as np\n",
        "\n",
        "array_6x2 = np.arange(12).reshape(6, 2)\n",
        "\n",
        "array_3x4 = array_6x2.reshape(3, 4)\n",
        "print(\"Original 6x2 Array:\\n\", array_6x2)\n",
        "print(\"Reshaped 3x4 Array:\\n\", array_3x4)\n"
      ],
      "metadata": {
        "colab": {
          "base_uri": "https://localhost:8080/"
        },
        "id": "NChNCsnldcdZ",
        "outputId": "1cccae53-774c-43a0-ac4b-336d8ad1152a"
      },
      "execution_count": 36,
      "outputs": [
        {
          "output_type": "stream",
          "name": "stdout",
          "text": [
            "Original 6x2 Array:\n",
            " [[ 0  1]\n",
            " [ 2  3]\n",
            " [ 4  5]\n",
            " [ 6  7]\n",
            " [ 8  9]\n",
            " [10 11]]\n",
            "Reshaped 3x4 Array:\n",
            " [[ 0  1  2  3]\n",
            " [ 4  5  6  7]\n",
            " [ 8  9 10 11]]\n"
          ]
        }
      ]
    },
    {
      "cell_type": "code",
      "source": [
        "#Create a 4x4 array and flatten it.\n",
        "import numpy as np\n",
        "\n",
        "array_4x4 = np.array([\n",
        "    [1, 2, 3, 4],\n",
        "    [5, 6, 7, 8],\n",
        "    [9, 10, 11, 12],\n",
        "    [13, 14, 15, 16]\n",
        "])\n",
        "\n",
        "flattened_array = array_4x4.flatten()\n",
        "\n",
        "print(\"Original 4x4 Array:\\n\", array_4x4)\n",
        "print(\"Flattened Array:\\n\", flattened_array)\n"
      ],
      "metadata": {
        "colab": {
          "base_uri": "https://localhost:8080/"
        },
        "id": "r3S-RYssdozh",
        "outputId": "1c135e21-6674-4727-e2b3-940e73a8609a"
      },
      "execution_count": 38,
      "outputs": [
        {
          "output_type": "stream",
          "name": "stdout",
          "text": [
            "Original 4x4 Array:\n",
            " [[ 1  2  3  4]\n",
            " [ 5  6  7  8]\n",
            " [ 9 10 11 12]\n",
            " [13 14 15 16]]\n",
            "Flattened Array:\n",
            " [ 1  2  3  4  5  6  7  8  9 10 11 12 13 14 15 16]\n"
          ]
        }
      ]
    },
    {
      "cell_type": "code",
      "source": [
        "#Reshape a 3D array of shape (2, 3, 4) to (4, 3, 2).\n",
        "import numpy as np\n",
        "\n",
        "array_3d = np.arange(24).reshape(2, 3, 4)\n",
        "\n",
        "reshaped_array = array_3d.reshape(4, 3, 2)\n",
        "\n",
        "print(\"Original Array (2, 3, 4):\\n\", array_3d)\n",
        "print(\"Reshaped Array (4, 3, 2):\\n\", reshaped_array)\n"
      ],
      "metadata": {
        "colab": {
          "base_uri": "https://localhost:8080/"
        },
        "id": "KpTdvK1Bd7Bs",
        "outputId": "9ef9bc16-289a-453c-c638-a12ce4de9612"
      },
      "execution_count": 40,
      "outputs": [
        {
          "output_type": "stream",
          "name": "stdout",
          "text": [
            "Original Array (2, 3, 4):\n",
            " [[[ 0  1  2  3]\n",
            "  [ 4  5  6  7]\n",
            "  [ 8  9 10 11]]\n",
            "\n",
            " [[12 13 14 15]\n",
            "  [16 17 18 19]\n",
            "  [20 21 22 23]]]\n",
            "Reshaped Array (4, 3, 2):\n",
            " [[[ 0  1]\n",
            "  [ 2  3]\n",
            "  [ 4  5]]\n",
            "\n",
            " [[ 6  7]\n",
            "  [ 8  9]\n",
            "  [10 11]]\n",
            "\n",
            " [[12 13]\n",
            "  [14 15]\n",
            "  [16 17]]\n",
            "\n",
            " [[18 19]\n",
            "  [20 21]\n",
            "  [22 23]]]\n"
          ]
        }
      ]
    },
    {
      "cell_type": "code",
      "source": [
        "#Reshape a 1D array to a 2D array with 1 row and many columns.\n",
        "import numpy as np\n",
        "\n",
        "array_1d = np.arange(10)\n",
        "\n",
        "array_2d = array_1d.reshape(1, -1)\n",
        "\n",
        "print(\"Original 1D Array:\\n\", array_1d)\n",
        "print(\"Reshaped 2D Array (1 row, many columns):\\n\", array_2d)\n"
      ],
      "metadata": {
        "colab": {
          "base_uri": "https://localhost:8080/"
        },
        "id": "oqc1fVJDeX15",
        "outputId": "18e0c4c6-ae0c-46a2-9ac5-5c09cebb9ed4"
      },
      "execution_count": 42,
      "outputs": [
        {
          "output_type": "stream",
          "name": "stdout",
          "text": [
            "Original 1D Array:\n",
            " [0 1 2 3 4 5 6 7 8 9]\n",
            "Reshaped 2D Array (1 row, many columns):\n",
            " [[0 1 2 3 4 5 6 7 8 9]]\n"
          ]
        }
      ]
    },
    {
      "cell_type": "code",
      "source": [
        "#Create two arrays: a = [1, 3, 5] and b = [2, 4, 6]. Perform element-wise division.\n",
        "import numpy as np\n",
        "\n",
        "a = np.array([1, 3, 5])\n",
        "b = np.array([2, 4, 6])\n",
        "\n",
        "result = a / b\n",
        "\n",
        "print(\"Array a:\", a)\n",
        "print(\"Array b:\", b)\n",
        "print(\"Element-wise Division Result:\", result)\n",
        "\n"
      ],
      "metadata": {
        "colab": {
          "base_uri": "https://localhost:8080/"
        },
        "id": "yZJSSjGQenw0",
        "outputId": "662b4396-b1f7-4c9c-8025-78ca66431264"
      },
      "execution_count": 44,
      "outputs": [
        {
          "output_type": "stream",
          "name": "stdout",
          "text": [
            "Array a: [1 3 5]\n",
            "Array b: [2 4 6]\n",
            "Element-wise Division Result: [0.5        0.75       0.83333333]\n"
          ]
        }
      ]
    },
    {
      "cell_type": "code",
      "source": [
        "#Create two arrays: a = [2, 4, 6] and b = [1, 3, 5]. Perform element-wise modulus.\n",
        "import numpy as np\n",
        "\n",
        "a = np.array([2, 4, 6])\n",
        "b = np.array([1, 3, 5])\n",
        "\n",
        "result = a % b\n",
        "\n",
        "print(\"Array a:\", a)\n",
        "print(\"Array b:\", b)\n",
        "print(\"Element-wise Modulus Result:\", result)\n"
      ],
      "metadata": {
        "colab": {
          "base_uri": "https://localhost:8080/"
        },
        "id": "woBA8_cdfDsn",
        "outputId": "ed921015-1bbe-4243-e79c-5f19571bd38d"
      },
      "execution_count": 46,
      "outputs": [
        {
          "output_type": "stream",
          "name": "stdout",
          "text": [
            "Array a: [2 4 6]\n",
            "Array b: [1 3 5]\n",
            "Element-wise Modulus Result: [0 1 1]\n"
          ]
        }
      ]
    },
    {
      "cell_type": "code",
      "source": [
        "#Add 10 to each element in the array: a = [1, 2, 3, 4, 5].\n",
        "import numpy as np\n",
        "\n",
        "a = np.array([1, 2, 3, 4, 5])\n",
        "\n",
        "result = a + 10\n",
        "\n",
        "print(\"Original Array:\", a)\n",
        "print(\"Array after Adding 10:\", result)\n"
      ],
      "metadata": {
        "colab": {
          "base_uri": "https://localhost:8080/"
        },
        "id": "kpUgDpq-fS0r",
        "outputId": "96dd19d2-64e7-4bac-9099-229070ddd736"
      },
      "execution_count": 48,
      "outputs": [
        {
          "output_type": "stream",
          "name": "stdout",
          "text": [
            "Original Array: [1 2 3 4 5]\n",
            "Array after Adding 10: [11 12 13 14 15]\n"
          ]
        }
      ]
    },
    {
      "cell_type": "code",
      "source": [
        "#Subtract 5 from each element in the array: b = [10, 20, 30, 40, 50]\n",
        "import numpy as np\n",
        "\n",
        "b = np.array([10, 20, 30, 40, 50])\n",
        "\n",
        "result = b - 5\n",
        "\n",
        "print(\"Original Array:\", b)\n",
        "print(\"Array after Subtracting 5:\", result)\n"
      ],
      "metadata": {
        "colab": {
          "base_uri": "https://localhost:8080/"
        },
        "id": "2STRD8h_ffBH",
        "outputId": "b5359222-3417-49af-8e8c-f8302bfbf91b"
      },
      "execution_count": 50,
      "outputs": [
        {
          "output_type": "stream",
          "name": "stdout",
          "text": [
            "Original Array: [10 20 30 40 50]\n",
            "Array after Subtracting 5: [ 5 15 25 35 45]\n"
          ]
        }
      ]
    },
    {
      "cell_type": "code",
      "source": [
        "#Square each element in the array: c = [1, 2, 3, 4, 5]\n",
        "import numpy as np\n",
        "\n",
        "c = np.array([1, 2, 3, 4, 5])\n",
        "\n",
        "squared = c ** 2\n",
        "\n",
        "print(\"Original Array:\", c)\n",
        "print(\"Array after Squaring Each Element:\", squared)\n"
      ],
      "metadata": {
        "colab": {
          "base_uri": "https://localhost:8080/"
        },
        "id": "fFDzceVLf3c6",
        "outputId": "88d2ecb6-3a48-4dc4-c7b0-ccfaf057bf34"
      },
      "execution_count": 52,
      "outputs": [
        {
          "output_type": "stream",
          "name": "stdout",
          "text": [
            "Original Array: [1 2 3 4 5]\n",
            "Array after Squaring Each Element: [ 1  4  9 16 25]\n"
          ]
        }
      ]
    },
    {
      "cell_type": "code",
      "source": [
        "#Create a 3D array: array_3d = [[[1, 2, 3], [4, 5, 6]], [[7, 8, 9], [10, 11, 12]]]. Access\n",
        "#the element at [1, 1, 1].\n",
        "import numpy as np\n",
        "\n",
        "array_3d = np.array([[[1, 2, 3], [4, 5, 6]], [[7, 8, 9], [10, 11, 12]]])\n",
        "\n",
        "element = array_3d[1, 1, 1]\n",
        "\n",
        "print(\"3D Array:\\n\", array_3d)\n",
        "print(\"Element at [1, 1, 1]:\", element)\n"
      ],
      "metadata": {
        "colab": {
          "base_uri": "https://localhost:8080/"
        },
        "id": "IFxY4ZqNgcnJ",
        "outputId": "ed2e10b7-d6e8-46e6-82ef-8102b9e54fe5"
      },
      "execution_count": 54,
      "outputs": [
        {
          "output_type": "stream",
          "name": "stdout",
          "text": [
            "3D Array:\n",
            " [[[ 1  2  3]\n",
            "  [ 4  5  6]]\n",
            "\n",
            " [[ 7  8  9]\n",
            "  [10 11 12]]]\n",
            "Element at [1, 1, 1]: 11\n"
          ]
        }
      ]
    },
    {
      "cell_type": "code",
      "source": [
        "#Slice the first layer of a 3D array: array_3d = [[[1, 2, 3], [4, 5, 6]], [[7, 8, 9], [10, 11,\n",
        "#12]]].\n",
        "import numpy as np\n",
        "\n",
        "array_3d = np.array([[[1, 2, 3], [4, 5, 6]], [[7, 8, 9], [10, 11, 12]]])\n",
        "\n",
        "first_layer = array_3d[0]\n",
        "\n",
        "print(\"3D Array:\\n\", array_3d)\n",
        "print(\"First Layer:\\n\", first_layer)\n",
        "\n"
      ],
      "metadata": {
        "colab": {
          "base_uri": "https://localhost:8080/"
        },
        "id": "4cNSCKILgrFy",
        "outputId": "1732c7c9-a1a6-45a2-a278-0f9830398ecb"
      },
      "execution_count": 56,
      "outputs": [
        {
          "output_type": "stream",
          "name": "stdout",
          "text": [
            "3D Array:\n",
            " [[[ 1  2  3]\n",
            "  [ 4  5  6]]\n",
            "\n",
            " [[ 7  8  9]\n",
            "  [10 11 12]]]\n",
            "First Layer:\n",
            " [[1 2 3]\n",
            " [4 5 6]]\n"
          ]
        }
      ]
    },
    {
      "cell_type": "code",
      "source": [
        "#Access all elements in the last row of the array: array_2d = [[10, 20, 30], [40, 50, 60],\n",
        "#[70, 80, 90]].\n",
        "import numpy as np\n",
        "\n",
        "array_2d = np.array([[10, 20, 30], [40, 50, 60], [70, 80, 90]])\n",
        "\n",
        "last_row = array_2d[-1]\n",
        "\n",
        "print(\"2D Array:\\n\", array_2d)\n",
        "print(\"Last Row:\\n\", last_row)\n"
      ],
      "metadata": {
        "colab": {
          "base_uri": "https://localhost:8080/"
        },
        "id": "rKSrjmamg_ln",
        "outputId": "5808134b-37da-4317-938a-89aedce5ee35"
      },
      "execution_count": 58,
      "outputs": [
        {
          "output_type": "stream",
          "name": "stdout",
          "text": [
            "2D Array:\n",
            " [[10 20 30]\n",
            " [40 50 60]\n",
            " [70 80 90]]\n",
            "Last Row:\n",
            " [70 80 90]\n"
          ]
        }
      ]
    },
    {
      "cell_type": "code",
      "source": [
        "#Access all elements in the first column of the array: array_2d = [[10, 20, 30], [40, 50,\n",
        "#60], [70, 80, 90]].\n",
        "import numpy as np\n",
        "\n",
        "array_2d = np.array([[10, 20, 30], [40, 50, 60], [70, 80, 90]])\n",
        "\n",
        "first_column = array_2d[:, 0]\n",
        "\n",
        "print(\"2D Array:\\n\", array_2d)\n",
        "print(\"First Column:\\n\", first_column)\n"
      ],
      "metadata": {
        "colab": {
          "base_uri": "https://localhost:8080/"
        },
        "id": "GYuLQ4lChgNW",
        "outputId": "8e9d38bd-1b9f-4378-bfad-853363391724"
      },
      "execution_count": 60,
      "outputs": [
        {
          "output_type": "stream",
          "name": "stdout",
          "text": [
            "2D Array:\n",
            " [[10 20 30]\n",
            " [40 50 60]\n",
            " [70 80 90]]\n",
            "First Column:\n",
            " [10 40 70]\n"
          ]
        }
      ]
    },
    {
      "cell_type": "code",
      "source": [
        "#Slice the last two rows and columns of the array: array_2d = [[10, 20, 30], [40, 50,\n",
        "#60], [70, 80, 90]].\n",
        "import numpy as np\n",
        "\n",
        "array_2d = np.array([[10, 20, 30], [40, 50, 60], [70, 80, 90]])\n",
        "\n",
        "sliced_array = array_2d[-2:, -2:]\n",
        "\n",
        "print(\"2D Array:\\n\", array_2d)\n",
        "print(\"Sliced Array (Last Two Rows and Columns):\\n\", sliced_array)\n"
      ],
      "metadata": {
        "colab": {
          "base_uri": "https://localhost:8080/"
        },
        "id": "ZtliPTTLhtdv",
        "outputId": "1ca0557a-03cc-403e-9eb5-96c8d1ada627"
      },
      "execution_count": 62,
      "outputs": [
        {
          "output_type": "stream",
          "name": "stdout",
          "text": [
            "2D Array:\n",
            " [[10 20 30]\n",
            " [40 50 60]\n",
            " [70 80 90]]\n",
            "Sliced Array (Last Two Rows and Columns):\n",
            " [[50 60]\n",
            " [80 90]]\n"
          ]
        }
      ]
    },
    {
      "cell_type": "code",
      "source": [
        "#Generate a random array of 20 elements with values between 0 and 1.\n",
        "import numpy as np\n",
        "\n",
        "random_array = np.random.rand(20)\n",
        "\n",
        "print(\"Random Array:\\n\", random_array)\n"
      ],
      "metadata": {
        "colab": {
          "base_uri": "https://localhost:8080/"
        },
        "id": "IG_Zr5VHh-oE",
        "outputId": "583d5270-35f4-4534-a3b6-b789599402cf"
      },
      "execution_count": 64,
      "outputs": [
        {
          "output_type": "stream",
          "name": "stdout",
          "text": [
            "Random Array:\n",
            " [0.38045291 0.51989788 0.80728125 0.37649674 0.99772987 0.23187129\n",
            " 0.49209946 0.51536058 0.77164871 0.26707873 0.87632693 0.57417643\n",
            " 0.73081311 0.69994234 0.51157833 0.13255492 0.61841775 0.23115912\n",
            " 0.98646367 0.61446112]\n"
          ]
        }
      ]
    },
    {
      "cell_type": "code",
      "source": [
        "#Create a 4x4 array with random integers between 10 and 20.\n",
        "import numpy as np\n",
        "\n",
        "shape = (4, 4)\n",
        "\n",
        "random_array = np.random.randint(10, 21, size=shape)\n",
        "\n",
        "print(\"4x4 Array with Random Integers between 10 and 20:\\n\", random_array)\n"
      ],
      "metadata": {
        "colab": {
          "base_uri": "https://localhost:8080/"
        },
        "id": "Ng9o7kEwiJDw",
        "outputId": "a300e52b-56d7-40d6-8727-3aa612d06f25"
      },
      "execution_count": 65,
      "outputs": [
        {
          "output_type": "stream",
          "name": "stdout",
          "text": [
            "4x4 Array with Random Integers between 10 and 20:\n",
            " [[13 16 17 19]\n",
            " [16 19 19 14]\n",
            " [12 16 19 14]\n",
            " [17 19 16 16]]\n"
          ]
        }
      ]
    },
    {
      "cell_type": "code",
      "source": [
        "#Create a 3x3 array with random floats between -1 and 1.\n",
        "import numpy as np\n",
        "\n",
        "shape = (3, 3)\n",
        "random_array = np.random.uniform(-1, 1, size=shape)\n",
        "\n",
        "print(\"3x3 Array with Random Floats between -1 and 1:\\n\", random_array)\n"
      ],
      "metadata": {
        "colab": {
          "base_uri": "https://localhost:8080/"
        },
        "id": "82XMyhFCiUY7",
        "outputId": "3f677b0a-2e7d-4846-dc9e-74cc8046bc6f"
      },
      "execution_count": 67,
      "outputs": [
        {
          "output_type": "stream",
          "name": "stdout",
          "text": [
            "3x3 Array with Random Floats between -1 and 1:\n",
            " [[-0.24664083  0.36536066  0.78836627]\n",
            " [-0.97325872  0.64791156  0.66385608]\n",
            " [-0.04845871 -0.78845562  0.40762946]]\n"
          ]
        }
      ]
    },
    {
      "cell_type": "code",
      "source": [
        "#Generate an array of 15 random integers between 100 and 200.\n",
        "import numpy as np\n",
        "\n",
        "random_array = np.random.randint(100, 200, size=15)\n",
        "\n",
        "print(\"Array of 15 Random Integers between 100 and 200:\\n\", random_array)\n"
      ],
      "metadata": {
        "colab": {
          "base_uri": "https://localhost:8080/"
        },
        "id": "-0duDncbidNh",
        "outputId": "aa2370c9-bdc8-4f73-e509-b7efc6a47934"
      },
      "execution_count": 69,
      "outputs": [
        {
          "output_type": "stream",
          "name": "stdout",
          "text": [
            "Array of 15 Random Integers between 100 and 200:\n",
            " [128 197 112 129 183 158 103 168 136 109 175 190 118 107 182]\n"
          ]
        }
      ]
    },
    {
      "cell_type": "code",
      "source": [
        "#Create a 5x5 array with random floats between 0 and 10.\n",
        "import numpy as np\n",
        "\n",
        "shape = (5, 5)\n",
        "\n",
        "random_array = np.random.uniform(0, 10, size=shape)\n",
        "\n",
        "print(\"5x5 Array with Random Floats between 0 and 10:\\n\", random_array)\n"
      ],
      "metadata": {
        "colab": {
          "base_uri": "https://localhost:8080/"
        },
        "id": "xw2mRRZ-iv4h",
        "outputId": "37e09cd8-a91d-4219-8cc2-430545ec21cb"
      },
      "execution_count": 71,
      "outputs": [
        {
          "output_type": "stream",
          "name": "stdout",
          "text": [
            "5x5 Array with Random Floats between 0 and 10:\n",
            " [[5.69606885e+00 4.68912695e+00 3.20109434e+00 4.70881030e+00\n",
            "  7.74058598e+00]\n",
            " [9.24215817e+00 5.19562376e+00 5.62903262e-03 1.83254054e+00\n",
            "  1.01393743e+00]\n",
            " [4.58871298e+00 8.14926113e+00 1.88521310e+00 3.40533517e+00\n",
            "  3.80954717e+00]\n",
            " [2.77019203e-01 6.51170025e+00 2.37537064e+00 5.76056622e+00\n",
            "  3.97197277e+00]\n",
            " [2.28572076e+00 9.97462778e+00 4.99127703e+00 9.40657852e+00\n",
            "  9.16756215e+00]]\n"
          ]
        }
      ]
    },
    {
      "cell_type": "code",
      "source": [
        "#Vertically stack two arrays: a = [[1, 2], [3, 4]] and b = [[5, 6], [7, 8]].\n",
        "import numpy as np\n",
        "\n",
        "a = np.array([[1, 2], [3, 4]])\n",
        "b = np.array([[5, 6], [7, 8]])\n",
        "\n",
        "stacked_array = np.vstack((a, b))\n",
        "\n",
        "print(\"Array a:\\n\", a)\n",
        "print(\"Array b:\\n\", b)\n",
        "print(\"Vertically Stacked Array:\\n\", stacked_array)\n"
      ],
      "metadata": {
        "colab": {
          "base_uri": "https://localhost:8080/"
        },
        "id": "D4gPpQLgjY-o",
        "outputId": "40c7d652-50a5-4c5a-8aaa-f363e924e32e"
      },
      "execution_count": 73,
      "outputs": [
        {
          "output_type": "stream",
          "name": "stdout",
          "text": [
            "Array a:\n",
            " [[1 2]\n",
            " [3 4]]\n",
            "Array b:\n",
            " [[5 6]\n",
            " [7 8]]\n",
            "Vertically Stacked Array:\n",
            " [[1 2]\n",
            " [3 4]\n",
            " [5 6]\n",
            " [7 8]]\n"
          ]
        }
      ]
    },
    {
      "cell_type": "code",
      "source": [
        "#Horizontally stack two arrays: a = [[1, 2], [3, 4]] and b = [[5, 6], [7, 8]].\n",
        "import numpy as np\n",
        "\n",
        "a = np.array([[1, 2], [3, 4]])\n",
        "b = np.array([[5, 6], [7, 8]])\n",
        "\n",
        "stacked_array = np.hstack((a, b))\n",
        "\n",
        "print(\"Array a:\\n\", a)\n",
        "print(\"Array b:\\n\", b)\n",
        "print(\"Horizontally Stacked Array:\\n\", stacked_array)\n"
      ],
      "metadata": {
        "colab": {
          "base_uri": "https://localhost:8080/"
        },
        "id": "o_nhcTHVjya9",
        "outputId": "f5745022-5186-4ea8-a9e5-eeb064653568"
      },
      "execution_count": 75,
      "outputs": [
        {
          "output_type": "stream",
          "name": "stdout",
          "text": [
            "Array a:\n",
            " [[1 2]\n",
            " [3 4]]\n",
            "Array b:\n",
            " [[5 6]\n",
            " [7 8]]\n",
            "Horizontally Stacked Array:\n",
            " [[1 2 5 6]\n",
            " [3 4 7 8]]\n"
          ]
        }
      ]
    },
    {
      "cell_type": "code",
      "source": [
        "#Concatenate two 1D arrays: a = [1, 2, 3] and b = [4, 5, 6].\n",
        "import numpy as np\n",
        "\n",
        "a = np.array([1, 2, 3])\n",
        "b = np.array([4, 5, 6])\n",
        "\n",
        "concatenated_array = np.concatenate((a, b))\n",
        "\n",
        "print(\"Array a:\", a)\n",
        "print(\"Array b:\", b)\n",
        "print(\"Concatenated Array:\", concatenated_array)\n"
      ],
      "metadata": {
        "colab": {
          "base_uri": "https://localhost:8080/"
        },
        "id": "Pm1qPkkmj7d7",
        "outputId": "b8e98af3-4afc-4af6-81c1-a903a6cab9d5"
      },
      "execution_count": 76,
      "outputs": [
        {
          "output_type": "stream",
          "name": "stdout",
          "text": [
            "Array a: [1 2 3]\n",
            "Array b: [4 5 6]\n",
            "Concatenated Array: [1 2 3 4 5 6]\n"
          ]
        }
      ]
    },
    {
      "cell_type": "code",
      "source": [
        "#Concatenate two 3x3 arrays along rows: a = [[1, 2, 3], [4, 5, 6], [7, 8, 9]] and b = [[10,\n",
        "#11, 12], [13, 14, 15], [16, 17, 18]].\n",
        "import numpy as np\n",
        "\n",
        "a = np.array([[1, 2, 3], [4, 5, 6], [7, 8, 9]])\n",
        "b = np.array([[10, 11, 12], [13, 14, 15], [16, 17, 18]])\n",
        "\n",
        "concatenated_array = np.vstack((a, b))\n",
        "\n",
        "print(\"Array a:\\n\", a)\n",
        "print(\"Array b:\\n\", b)\n",
        "print(\"Concatenated Array (along rows):\\n\", concatenated_array)\n"
      ],
      "metadata": {
        "colab": {
          "base_uri": "https://localhost:8080/"
        },
        "id": "oD1-w8v8kLns",
        "outputId": "5ef190bd-9a07-4689-f9cf-839a6b71a73b"
      },
      "execution_count": 78,
      "outputs": [
        {
          "output_type": "stream",
          "name": "stdout",
          "text": [
            "Array a:\n",
            " [[1 2 3]\n",
            " [4 5 6]\n",
            " [7 8 9]]\n",
            "Array b:\n",
            " [[10 11 12]\n",
            " [13 14 15]\n",
            " [16 17 18]]\n",
            "Concatenated Array (along rows):\n",
            " [[ 1  2  3]\n",
            " [ 4  5  6]\n",
            " [ 7  8  9]\n",
            " [10 11 12]\n",
            " [13 14 15]\n",
            " [16 17 18]]\n"
          ]
        }
      ]
    },
    {
      "cell_type": "code",
      "source": [
        "#Concatenate two 3x3 arrays along columns: a = [[1, 2, 3], [4, 5, 6], [7, 8, 9]] and b =\n",
        "#[[10, 11, 12], [13, 14, 15], [16, 17, 18]].\n",
        "import numpy as np\n",
        "\n",
        "a = np.array([[1, 2, 3], [4, 5, 6], [7, 8, 9]])\n",
        "b = np.array([[10, 11, 12], [13, 14, 15], [16, 17, 18]])\n",
        "\n",
        "concatenated_array = np.hstack((a, b))\n",
        "print(\"Array a:\\n\", a)\n",
        "print(\"Array b:\\n\", b)\n",
        "print(\"Concatenated Array (along columns):\\n\", concatenated_array)\n"
      ],
      "metadata": {
        "colab": {
          "base_uri": "https://localhost:8080/"
        },
        "id": "NYtQLzn3kdHN",
        "outputId": "1af54e7b-eda6-4044-f081-9bdfa2b2c54c"
      },
      "execution_count": 79,
      "outputs": [
        {
          "output_type": "stream",
          "name": "stdout",
          "text": [
            "Array a:\n",
            " [[1 2 3]\n",
            " [4 5 6]\n",
            " [7 8 9]]\n",
            "Array b:\n",
            " [[10 11 12]\n",
            " [13 14 15]\n",
            " [16 17 18]]\n",
            "Concatenated Array (along columns):\n",
            " [[ 1  2  3 10 11 12]\n",
            " [ 4  5  6 13 14 15]\n",
            " [ 7  8  9 16 17 18]]\n"
          ]
        }
      ]
    }
  ]
}